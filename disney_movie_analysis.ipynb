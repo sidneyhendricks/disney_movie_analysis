{
 "cells": [
  {
   "cell_type": "markdown",
   "id": "5583e98b",
   "metadata": {},
   "source": [
    "# Disney+ Movie Analysis\n",
    "\n",
    "Disney+ is a subscription based streaming service released in November 2019. For a monthly price, subscribers are able to stream content from Disney, Pixar, Marvel, Disney, Star Wars, and National Geographic. In this notebook I perform data cleaning as well as exploriatory data analysis using 2 datasets in order to analyze movies availiable on Disney+. "
   ]
  },
  {
   "cell_type": "markdown",
   "id": "7dd23988",
   "metadata": {},
   "source": [
    "### Datasets \n",
    "\n",
    "#### Dataset 1\n",
    "- Name: movies_df\n",
    "- Source: https://www.kaggle.com/datasets/shivamb/disney-movies-and-tv-shows/code?resource=download\n",
    "- Description: This dataset contains basic data about Disney+ movies and TV shows including the Disney+ release date, director, cast, duration, rating, etc. \n",
    "\n",
    "#### Dataset 2\n",
    "- Dataset name: revenue_df\n",
    "- Dataset source: https://www.kaggle.com/datasets/rashikrahmanpritom/disney-movies-19372016-total-gross\n",
    "- Description: This dataset contains the total gross income for Disney movies released up until 2016. The date of when the total gross income was measure is not clear. "
   ]
  },
  {
   "cell_type": "code",
   "execution_count": 96,
   "id": "a0444af9",
   "metadata": {},
   "outputs": [],
   "source": [
    "import pandas as pd\n",
    "import numpy as np\n",
    "import matplotlib.pyplot as plt\n",
    "import seaborn as sns"
   ]
  },
  {
   "cell_type": "code",
   "execution_count": 138,
   "id": "7a3881d8",
   "metadata": {},
   "outputs": [],
   "source": [
    "#load in datasets \n",
    "movies_df = pd.read_csv('disney_plus_titles.csv')\n",
    "revenue_df = pd.read_csv('disney_movies_total_gross.csv')"
   ]
  },
  {
   "cell_type": "markdown",
   "id": "cef45758",
   "metadata": {},
   "source": [
    "# Data Cleaning"
   ]
  },
  {
   "cell_type": "code",
   "execution_count": 139,
   "id": "844deb80",
   "metadata": {},
   "outputs": [],
   "source": [
    "#clean movies_df\n",
    "#filter to only include movies\n",
    "movies_df = movies_df[movies_df['type'] == 'Movie']\n",
    "#keep columns of interest \n",
    "movies_df = movies_df[['title', 'director', 'cast']]"
   ]
  },
  {
   "cell_type": "code",
   "execution_count": 140,
   "id": "89f00b04",
   "metadata": {},
   "outputs": [
    {
     "name": "stdout",
     "output_type": "stream",
     "text": [
      "<class 'pandas.core.frame.DataFrame'>\n",
      "Int64Index: 201 entries, 0 to 200\n",
      "Data columns (total 9 columns):\n",
      " #   Column                    Non-Null Count  Dtype \n",
      "---  ------                    --------------  ----- \n",
      " 0   title                     201 non-null    object\n",
      " 1   director                  201 non-null    object\n",
      " 2   cast                      201 non-null    object\n",
      " 3   movie_title               201 non-null    object\n",
      " 4   release_date              201 non-null    object\n",
      " 5   genre                     197 non-null    object\n",
      " 6   mpaa_rating               177 non-null    object\n",
      " 7   total_gross               201 non-null    int64 \n",
      " 8   inflation_adjusted_gross  201 non-null    int64 \n",
      "dtypes: int64(2), object(7)\n",
      "memory usage: 15.7+ KB\n"
     ]
    }
   ],
   "source": [
    "#merge datasets together to only include common movie titles \n",
    "disney_df = movies_df.merge(revenue_df, how='inner', left_on='title', right_on = 'movie_title')\n",
    "disney_df.info()"
   ]
  },
  {
   "cell_type": "code",
   "execution_count": 143,
   "id": "ac74f06b",
   "metadata": {},
   "outputs": [],
   "source": [
    "#change release date to datetime\n",
    "disney_df['release_date'] = pd.to_datetime(disney_df['release_date']).drop(columns='movie_title')\n",
    "#change cast column to list \n",
    "disney_df['cast'] = disney_df[\"cast\"].str.split(\",\")\n",
    "disney_df = disney_df.rename(columns={'total_gross': 'income'})"
   ]
  },
  {
   "cell_type": "markdown",
   "id": "308b9417",
   "metadata": {},
   "source": [
    "# EDA"
   ]
  },
  {
   "cell_type": "code",
   "execution_count": 144,
   "id": "5065fa28",
   "metadata": {},
   "outputs": [
    {
     "data": {
      "text/html": [
       "<div>\n",
       "<style scoped>\n",
       "    .dataframe tbody tr th:only-of-type {\n",
       "        vertical-align: middle;\n",
       "    }\n",
       "\n",
       "    .dataframe tbody tr th {\n",
       "        vertical-align: top;\n",
       "    }\n",
       "\n",
       "    .dataframe thead th {\n",
       "        text-align: right;\n",
       "    }\n",
       "</style>\n",
       "<table border=\"1\" class=\"dataframe\">\n",
       "  <thead>\n",
       "    <tr style=\"text-align: right;\">\n",
       "      <th></th>\n",
       "      <th>title</th>\n",
       "      <th>director</th>\n",
       "      <th>cast</th>\n",
       "      <th>movie_title</th>\n",
       "      <th>release_date</th>\n",
       "      <th>genre</th>\n",
       "      <th>mpaa_rating</th>\n",
       "      <th>income</th>\n",
       "      <th>inflation_adjusted_gross</th>\n",
       "    </tr>\n",
       "  </thead>\n",
       "  <tbody>\n",
       "    <tr>\n",
       "      <th>0</th>\n",
       "      <td>Ernest Saves Christmas</td>\n",
       "      <td>John Cherry</td>\n",
       "      <td>NaN</td>\n",
       "      <td>Ernest Saves Christmas</td>\n",
       "      <td>1988-11-11</td>\n",
       "      <td>Comedy</td>\n",
       "      <td>PG</td>\n",
       "      <td>28202109</td>\n",
       "      <td>57845202</td>\n",
       "    </tr>\n",
       "    <tr>\n",
       "      <th>1</th>\n",
       "      <td>Enchanted</td>\n",
       "      <td>Kevin Lima</td>\n",
       "      <td>NaN</td>\n",
       "      <td>Enchanted</td>\n",
       "      <td>2007-11-21</td>\n",
       "      <td>Romantic Comedy</td>\n",
       "      <td>PG</td>\n",
       "      <td>127706877</td>\n",
       "      <td>156074310</td>\n",
       "    </tr>\n",
       "    <tr>\n",
       "      <th>2</th>\n",
       "      <td>McFarland, USA</td>\n",
       "      <td>Niki Caro</td>\n",
       "      <td>NaN</td>\n",
       "      <td>McFarland, USA</td>\n",
       "      <td>2015-02-20</td>\n",
       "      <td>Drama</td>\n",
       "      <td>PG</td>\n",
       "      <td>44480275</td>\n",
       "      <td>44480275</td>\n",
       "    </tr>\n",
       "    <tr>\n",
       "      <th>3</th>\n",
       "      <td>Maleficent</td>\n",
       "      <td>Robert Stromberg</td>\n",
       "      <td>NaN</td>\n",
       "      <td>Maleficent</td>\n",
       "      <td>2014-05-30</td>\n",
       "      <td>Adventure</td>\n",
       "      <td>PG</td>\n",
       "      <td>241407328</td>\n",
       "      <td>249089809</td>\n",
       "    </tr>\n",
       "    <tr>\n",
       "      <th>4</th>\n",
       "      <td>Confessions of a Shopaholic</td>\n",
       "      <td>P.J. Hogan</td>\n",
       "      <td>NaN</td>\n",
       "      <td>Confessions of a Shopaholic</td>\n",
       "      <td>2009-02-13</td>\n",
       "      <td>Romantic Comedy</td>\n",
       "      <td>PG</td>\n",
       "      <td>44277350</td>\n",
       "      <td>49767744</td>\n",
       "    </tr>\n",
       "  </tbody>\n",
       "</table>\n",
       "</div>"
      ],
      "text/plain": [
       "                         title          director  cast  \\\n",
       "0       Ernest Saves Christmas       John Cherry   NaN   \n",
       "1                    Enchanted        Kevin Lima   NaN   \n",
       "2               McFarland, USA         Niki Caro   NaN   \n",
       "3                   Maleficent  Robert Stromberg   NaN   \n",
       "4  Confessions of a Shopaholic        P.J. Hogan   NaN   \n",
       "\n",
       "                   movie_title release_date            genre mpaa_rating  \\\n",
       "0       Ernest Saves Christmas   1988-11-11           Comedy          PG   \n",
       "1                    Enchanted   2007-11-21  Romantic Comedy          PG   \n",
       "2               McFarland, USA   2015-02-20            Drama          PG   \n",
       "3                   Maleficent   2014-05-30        Adventure          PG   \n",
       "4  Confessions of a Shopaholic   2009-02-13  Romantic Comedy          PG   \n",
       "\n",
       "      income  inflation_adjusted_gross  \n",
       "0   28202109                  57845202  \n",
       "1  127706877                 156074310  \n",
       "2   44480275                  44480275  \n",
       "3  241407328                 249089809  \n",
       "4   44277350                  49767744  "
      ]
     },
     "execution_count": 144,
     "metadata": {},
     "output_type": "execute_result"
    }
   ],
   "source": [
    "disney_df.head()"
   ]
  },
  {
   "cell_type": "code",
   "execution_count": 145,
   "id": "b5be0408",
   "metadata": {},
   "outputs": [
    {
     "name": "stdout",
     "output_type": "stream",
     "text": [
      "<class 'pandas.core.frame.DataFrame'>\n",
      "Int64Index: 201 entries, 0 to 200\n",
      "Data columns (total 9 columns):\n",
      " #   Column                    Non-Null Count  Dtype         \n",
      "---  ------                    --------------  -----         \n",
      " 0   title                     201 non-null    object        \n",
      " 1   director                  201 non-null    object        \n",
      " 2   cast                      0 non-null      float64       \n",
      " 3   movie_title               201 non-null    object        \n",
      " 4   release_date              201 non-null    datetime64[ns]\n",
      " 5   genre                     197 non-null    object        \n",
      " 6   mpaa_rating               177 non-null    object        \n",
      " 7   income                    201 non-null    int64         \n",
      " 8   inflation_adjusted_gross  201 non-null    int64         \n",
      "dtypes: datetime64[ns](1), float64(1), int64(2), object(5)\n",
      "memory usage: 15.7+ KB\n"
     ]
    }
   ],
   "source": [
    "disney_df.info()"
   ]
  },
  {
   "cell_type": "markdown",
   "id": "305f810f",
   "metadata": {},
   "source": [
    "Most variables are categorical or nominal. The only quantitative variable is total gross income. We will used this variable to quantify the success of each movie"
   ]
  },
  {
   "cell_type": "code",
   "execution_count": 165,
   "id": "d1873110",
   "metadata": {},
   "outputs": [
    {
     "name": "stdout",
     "output_type": "stream",
     "text": [
      "top director names: ['Jon Favreau', 'Pete Docter', 'Andrew Stanton', 'Gareth Edwards', 'Andrew Stanton, Angus MacLane', 'Lee Unkrich', 'Chris Buck, Jennifer Lee']\n",
      "number of top directors: 7\n"
     ]
    }
   ],
   "source": [
    "#find director that has generated the most revenue\n",
    "top_rev_directors = disney_df.groupby(by='director')['income'].sum().sort_values(ascending=False)[:10]\n",
    "top_movie_directors = disney_df.sort_values(by='income', ascending=False)['director'][:10]\n",
    "top_directors = []\n",
    "for director in top_rev_directors.index: \n",
    "    if director in list(top_movie_directors): \n",
    "        top_directors += [director]\n",
    "print('top director names:', top_directors)\n",
    "print('number of top directors:', len(top_directors))"
   ]
  },
  {
   "cell_type": "code",
   "execution_count": 166,
   "id": "1e128697",
   "metadata": {},
   "outputs": [
    {
     "data": {
      "text/plain": [
       "John Lasseter                5\n",
       "John Musker, Ron Clements    4\n",
       "Jon Favreau                  4\n",
       "Jon Turteltaub               4\n",
       "James Bobin                  3\n",
       "                            ..\n",
       "Chuck Sheetz                 1\n",
       "Rupert Wainwright            1\n",
       "Maurice Joyce                1\n",
       "Henry Selick                 1\n",
       "Boaz Yakin                   1\n",
       "Name: director, Length: 155, dtype: int64"
      ]
     },
     "execution_count": 166,
     "metadata": {},
     "output_type": "execute_result"
    }
   ],
   "source": [
    "#calculate the max number of movies produced by a single director\n",
    "disney_df['director'].value_counts()"
   ]
  },
  {
   "cell_type": "markdown",
   "id": "142fb65c",
   "metadata": {},
   "source": [
    "Seven of the ten directors/director pairs that generated the highest total gross income across all of their movies were also directors of a top 10 movie in the dataset. The maximum number of movies by a single director in the dataset is five. "
   ]
  },
  {
   "cell_type": "code",
   "execution_count": 168,
   "id": "787e60ac",
   "metadata": {},
   "outputs": [
    {
     "data": {
      "text/plain": [
       "genre\n",
       "Adventure            11440111884\n",
       "Comedy                3804865924\n",
       "Drama                 1497532370\n",
       "Musical                746441160\n",
       "Romantic Comedy        395833641\n",
       "Thriller/Suspense       27569558\n",
       "Action                  26918576\n",
       "Documentary             19732496\n",
       "Western                  8247627\n",
       "Name: income, dtype: int64"
      ]
     },
     "execution_count": 168,
     "metadata": {},
     "output_type": "execute_result"
    }
   ],
   "source": [
    "#find genre that generates most revenue\n",
    "disney_df.groupby(by='genre')['income'].sum().sort_values(ascending=False)"
   ]
  },
  {
   "cell_type": "code",
   "execution_count": 170,
   "id": "7980ca9b",
   "metadata": {},
   "outputs": [
    {
     "data": {
      "text/plain": [
       "Adventure            88\n",
       "Comedy               61\n",
       "Drama                28\n",
       "Musical               8\n",
       "Romantic Comedy       5\n",
       "Documentary           4\n",
       "Thriller/Suspense     1\n",
       "Action                1\n",
       "Western               1\n",
       "Name: genre, dtype: int64"
      ]
     },
     "execution_count": 170,
     "metadata": {},
     "output_type": "execute_result"
    }
   ],
   "source": [
    "disney_df['genre'].value_counts()"
   ]
  },
  {
   "cell_type": "code",
   "execution_count": 169,
   "id": "8bc6fbe4",
   "metadata": {},
   "outputs": [
    {
     "data": {
      "text/plain": [
       "<AxesSubplot:xlabel='income', ylabel='genre'>"
      ]
     },
     "execution_count": 169,
     "metadata": {},
     "output_type": "execute_result"
    },
    {
     "data": {
      "image/png": "[encoded data removed]",
      "text/plain": [
       "<Figure size 432x288 with 1 Axes>"
      ]
     },
     "metadata": {
      "needs_background": "light"
     },
     "output_type": "display_data"
    }
   ],
   "source": [
    "#view the total gross income distributions across each genre \n",
    "sns.boxplot(x=\"income\", y=\"genre\", data=disney_df, orient=\"h\")"
   ]
  },
  {
   "cell_type": "markdown",
   "id": "c8b37901",
   "metadata": {},
   "source": [
    "It appears that the Adventure genre has the most movies as well as the largest spread of incomes having several movies that have generated far more income than any other genre. These outliers make the Adventure genre seem much more succcessful looking at the total income generated, but the mean income is much more in line with other genres. Adventure, Comedy, and Drama have by far many more movies than the other genres. Therefore it does not appear that one genre dominates on average. "
   ]
  },
  {
   "cell_type": "code",
   "execution_count": 82,
   "id": "b4d607fa",
   "metadata": {},
   "outputs": [
    {
     "data": {
      "text/plain": [
       "<AxesSubplot:xlabel='release_date'>"
      ]
     },
     "execution_count": 82,
     "metadata": {},
     "output_type": "execute_result"
    },
    {
     "data": {
      "image/png": "[encoded data removed]",
      "text/plain": [
       "<Figure size 432x288 with 1 Axes>"
      ]
     },
     "metadata": {
      "needs_background": "light"
     },
     "output_type": "display_data"
    }
   ],
   "source": [
    "#what month are the most movies released\n",
    "disney_df.groupby(disney_df['release_date'].dt.month)['title'].count().plot(kind='bar')"
   ]
  },
  {
   "cell_type": "code",
   "execution_count": 93,
   "id": "42c6ed11",
   "metadata": {},
   "outputs": [
    {
     "data": {
      "text/plain": [
       "<matplotlib.collections.PathCollection at 0x7ff6212293a0>"
      ]
     },
     "execution_count": 93,
     "metadata": {},
     "output_type": "execute_result"
    },
    {
     "data": {
      "image/png": "[encoded data removed]",
      "text/plain": [
       "<Figure size 432x288 with 1 Axes>"
      ]
     },
     "metadata": {
      "needs_background": "light"
     },
     "output_type": "display_data"
    }
   ],
   "source": [
    "#do more recent movies have higher revenue \n",
    "disney_df['year'] = disney_df['release_date'].dt.year\n",
    "plt.scatter(disney_df['year'], disney_df['total_gross'])"
   ]
  },
  {
   "cell_type": "markdown",
   "id": "85a25e5f",
   "metadata": {},
   "source": [
    "While there are movies produced in every month, March, June, and November produce the most movies. In addition, more recent movies have generated more income than older movies. "
   ]
  }
 ],
 "metadata": {
  "kernelspec": {
   "display_name": "Python 3",
   "language": "python",
   "name": "python3"
  },
  "language_info": {
   "codemirror_mode": {
    "name": "ipython",
    "version": 3
   },
   "file_extension": ".py",
   "mimetype": "text/x-python",
   "name": "python",
   "nbconvert_exporter": "python",
   "pygments_lexer": "ipython3",
   "version": "3.8.8"
  }
 },
 "nbformat": 4,
 "nbformat_minor": 5
}
